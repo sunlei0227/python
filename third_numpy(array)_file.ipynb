{
 "cells": [
  {
   "cell_type": "code",
   "execution_count": 3,
   "metadata": {},
   "outputs": [
    {
     "name": "stdout",
     "output_type": "stream",
     "text": [
      "# packages in environment at /Users/sunlei/anaconda:\n",
      "#\n",
      "_license                  1.1                      py27_1  \n",
      "alabaster                 0.7.10                   py27_0  \n",
      "anaconda                  4.4.0               np112py27_0  \n",
      "anaconda-client           1.6.3                    py27_0  \n",
      "anaconda-navigator        1.6.2                    py27_0  \n",
      "anaconda-project          0.6.0                    py27_0  \n",
      "appnope                   0.1.0                    py27_0  \n",
      "appscript                 1.0.1                    py27_0  \n",
      "asn1crypto                0.22.0                   py27_0  \n",
      "astroid                   1.4.9                    py27_0  \n",
      "astropy                   1.3.2               np112py27_0  \n",
      "babel                     2.4.0                    py27_0  \n",
      "backports                 1.0                      py27_0  \n",
      "backports_abc             0.5                      py27_0  \n",
      "beautifulsoup4            4.6.0                    py27_0  \n",
      "bitarray                  0.8.1                    py27_0  \n",
      "bkcharts                  0.2                      py27_0  \n",
      "blaze                     0.10.1                   py27_0  \n",
      "bleach                    1.5.0                    py27_0  \n",
      "bokeh                     0.12.5                   py27_1  \n",
      "boto                      2.46.1                   py27_0  \n",
      "bottleneck                1.2.1               np112py27_0  \n",
      "cairo                     1.14.8                        0  \n",
      "cdecimal                  2.3                      py27_2  \n",
      "certifi                   2016.2.28                py27_0  \n",
      "cffi                      1.10.0                   py27_0  \n",
      "chardet                   3.0.3                    py27_0  \n",
      "click                     6.7                      py27_0  \n",
      "cloudpickle               0.2.2                    py27_0  \n",
      "clyent                    1.2.2                    py27_0  \n",
      "colorama                  0.3.9                    py27_0  \n",
      "conda                     4.3.25                   py27_0  \n",
      "conda-env                 2.6.0                         0  \n",
      "configparser              3.5.0                    py27_0  \n",
      "contextlib2               0.5.5                    py27_0  \n",
      "cryptography              1.8.1                    py27_0  \n",
      "curl                      7.52.1                        0  \n",
      "cycler                    0.10.0                   py27_0  \n",
      "cython                    0.25.2                   py27_0  \n",
      "cytoolz                   0.8.2                    py27_0  \n",
      "dask                      0.14.3                   py27_1  \n",
      "datashape                 0.5.4                    py27_0  \n",
      "decorator                 4.0.11                   py27_0  \n",
      "distributed               1.16.3                   py27_0  \n",
      "docutils                  0.13.1                   py27_0  \n",
      "entrypoints               0.2.2                    py27_1  \n",
      "enum34                    1.1.6                    py27_0  \n",
      "et_xmlfile                1.0.1                    py27_0  \n",
      "fastcache                 1.0.2                    py27_1  \n",
      "flask                     0.12.2                   py27_0  \n",
      "flask-cors                3.0.2                    py27_0  \n",
      "fontconfig                2.12.1                        3  \n",
      "freetype                  2.5.5                         2  \n",
      "funcsigs                  1.0.2                    py27_0  \n",
      "functools32               3.2.3.2                  py27_0  \n",
      "functools_lru_cache       1.4                      py27_0  \n",
      "futures                   3.1.1                    py27_0  \n",
      "get_terminal_size         1.0.0                    py27_0  \n",
      "gettext                   0.19.8                        1  \n",
      "gevent                    1.2.1                    py27_0  \n",
      "glib                      2.50.2                        1  \n",
      "greenlet                  0.4.12                   py27_0  \n",
      "grin                      1.2.1                    py27_3  \n",
      "gsl                       2.2.1                         0  \n",
      "h5py                      2.7.0               np112py27_0  \n",
      "harfbuzz                  0.9.39                        2  \n",
      "hdf5                      1.8.17                        1  \n",
      "heapdict                  1.0.0                    py27_1  \n",
      "html5lib                  0.999                    py27_0  \n",
      "icu                       54.1                          0  \n",
      "idna                      2.5                      py27_0  \n",
      "imagesize                 0.7.1                    py27_0  \n",
      "ipaddress                 1.0.18                   py27_0  \n",
      "ipykernel                 4.6.1                    py27_0  \n",
      "ipython                   5.3.0                    py27_0  \n",
      "ipython_genutils          0.2.0                    py27_0  \n",
      "ipywidgets                6.0.0                    py27_0  \n",
      "isort                     4.2.5                    py27_0  \n",
      "itsdangerous              0.24                     py27_0  \n",
      "jbig                      2.1                           0  \n",
      "jdcal                     1.3                      py27_0  \n",
      "jedi                      0.10.2                   py27_2  \n",
      "jinja2                    2.9.6                    py27_0  \n",
      "jpeg                      9b                            0  \n",
      "jsonschema                2.6.0                    py27_0  \n",
      "jupyter                   1.0.0                    py27_3  \n",
      "jupyter_client            5.0.1                    py27_0  \n",
      "jupyter_console           5.1.0                    py27_0  \n",
      "jupyter_core              4.3.0                    py27_0  \n",
      "lazy-object-proxy         1.2.2                    py27_0  \n",
      "libffi                    3.2.1                         1  \n",
      "libgcc                    4.8.5                         1  \n",
      "libiconv                  1.14                          0  \n",
      "libpng                    1.6.27                        0  \n",
      "libtiff                   4.0.6                         3  \n",
      "libxml2                   2.9.4                         0  \n",
      "libxslt                   1.1.29                        0  \n",
      "llvmlite                  0.18.0                   py27_0  \n",
      "locket                    0.2.0                    py27_1  \n",
      "lxml                      3.7.3                    py27_0  \n",
      "markdown                  2.6.9                    py27_0  \n",
      "markupsafe                0.23                     py27_2  \n",
      "matplotlib                2.0.2               np112py27_0  \n",
      "mistune                   0.7.4                    py27_0  \n",
      "mkl                       2017.0.1                      0  \n",
      "mkl-service               1.1.2                    py27_3  \n",
      "mpmath                    0.19                     py27_1  \n",
      "msgpack-python            0.4.8                    py27_0  \n",
      "multipledispatch          0.4.9                    py27_0  \n",
      "navigator-updater         0.1.0                    py27_0  \n",
      "nbconvert                 5.1.1                    py27_0  \n",
      "nbformat                  4.3.0                    py27_0  \n",
      "ncurses                   5.9                          10  \n",
      "networkx                  1.11                     py27_0  \n",
      "nltk                      3.2.3                    py27_0  \n",
      "nose                      1.3.7                    py27_1  \n",
      "notebook                  5.0.0                    py27_0  \n",
      "numba                     0.33.0              np112py27_0  \n",
      "numexpr                   2.6.2               np112py27_0  \n",
      "numpy                     1.12.1                   py27_0  \n",
      "numpydoc                  0.6.0                    py27_0  \n",
      "odo                       0.5.0                    py27_1  \n",
      "olefile                   0.44                     py27_0  \n",
      "openpyxl                  2.4.7                    py27_0  \n",
      "openssl                   1.0.2l                        0  \n",
      "packaging                 16.8                     py27_0  \n",
      "pandas                    0.20.1              np112py27_0  \n",
      "pandoc                    1.19.2.1                      0  \n",
      "pandocfilters             1.4.1                    py27_0  \n",
      "pango                     1.40.3                        1  \n",
      "partd                     0.3.8                    py27_0  \n",
      "path.py                   10.3.1                   py27_0  \n",
      "pathlib2                  2.2.1                    py27_0  \n",
      "patsy                     0.4.1                    py27_0  \n",
      "pcre                      8.39                          1  \n",
      "pep8                      1.7.0                    py27_0  \n",
      "pexpect                   4.2.1                    py27_0  \n",
      "pickleshare               0.7.4                    py27_0  \n",
      "pillow                    4.1.1                    py27_0  \n",
      "pip                       9.0.1                    py27_1  \n",
      "pixman                    0.34.0                        0  \n",
      "ply                       3.10                     py27_0  \n",
      "prompt_toolkit            1.0.14                   py27_0  \n",
      "psutil                    5.2.2                    py27_0  \n",
      "ptyprocess                0.5.1                    py27_0  \n",
      "py                        1.4.33                   py27_0  \n",
      "pyaudio                   0.2.7                    py27_0  \n",
      "pycodestyle               2.3.1                    py27_0  \n",
      "pycosat                   0.6.2                    py27_0  \n",
      "pycparser                 2.17                     py27_0  \n",
      "pycrypto                  2.6.1                    py27_6  \n",
      "pycurl                    7.43.0                   py27_2  \n",
      "pyflakes                  1.5.0                    py27_0  \n",
      "pygments                  2.2.0                    py27_0  \n",
      "pylint                    1.6.4                    py27_1  \n",
      "pyodbc                    4.0.16                   py27_0  \n",
      "pyopenssl                 17.0.0                   py27_0  \n",
      "pyparsing                 2.1.4                    py27_0  \n",
      "pyqt                      5.6.0                    py27_1  \n",
      "pytables                  3.3.0               np112py27_0  \n",
      "pytest                    3.0.7                    py27_0  \n",
      "python                    2.7.13                        0  \n",
      "python-dateutil           2.6.0                    py27_0  \n",
      "python.app                1.2                      py27_4  \n",
      "pytz                      2017.2                   py27_0  \n",
      "pywavelets                0.5.2               np112py27_0  \n",
      "pyyaml                    3.12                     py27_0  \n",
      "pyzmq                     16.0.2                   py27_0  \n",
      "qt                        5.6.2                         2  \n",
      "qtawesome                 0.4.4                    py27_0  \n",
      "qtconsole                 4.3.0                    py27_0  \n",
      "qtpy                      1.2.1                    py27_0  \n",
      "r-assertthat              0.2.0                  r3.4.1_0    r\n",
      "r-backports               1.1.0                  r3.4.1_0    r\n",
      "r-base                    3.4.1                         0    r\n",
      "r-base64enc               0.1_3                  r3.4.1_0    r\n",
      "r-bh                      1.62.0_1               r3.4.1_0    r\n",
      "r-bindr                   0.1                    r3.4.1_0    r\n",
      "r-bindrcpp                0.2                    r3.4.1_0    r\n",
      "r-bitops                  1.0_6                  r3.4.1_2    r\n",
      "r-boot                    1.3_19                 r3.4.1_0    r\n",
      "r-broom                   0.4.2                  r3.4.1_0    r\n",
      "r-car                     2.1_4                  r3.4.1_0    r\n",
      "r-caret                   6.0_76                 r3.4.1_0    r\n",
      "r-catools                 1.17.1                 r3.4.1_2    r\n",
      "r-cellranger              1.1.0                  r3.4.1_0    r\n",
      "r-class                   7.3_14                 r3.4.1_0    r\n",
      "r-cluster                 2.0.6                  r3.4.1_0    r\n",
      "r-codetools               0.2_15                 r3.4.1_0    r\n",
      "r-colorspace              1.3_2                  r3.4.1_0    r\n",
      "r-crayon                  1.3.2                  r3.4.1_0    r\n",
      "r-curl                    2.6                    r3.4.1_0    r\n",
      "r-data.table              1.10.4                 r3.4.1_0    r\n",
      "r-dbi                     0.6_1                  r3.4.1_0    r\n",
      "r-dichromat               2.0_0                  r3.4.1_2    r\n",
      "r-digest                  0.6.12                 r3.4.1_0    r\n",
      "r-dplyr                   0.7.0                  r3.4.1_0    r\n",
      "r-essentials              1.6.0                  r3.4.1_0    r\n",
      "r-evaluate                0.10                   r3.4.1_0    r\n",
      "r-forcats                 0.2.0                  r3.4.1_0    r\n",
      "r-foreach                 1.4.3                  r3.4.1_0    r\n",
      "r-foreign                 0.8_68                 r3.4.1_0    r\n",
      "r-formatr                 1.5                    r3.4.1_0    r\n",
      "r-ggplot2                 2.2.1                  r3.4.1_0    r\n",
      "r-gistr                   0.4.0                  r3.4.1_0    r\n",
      "r-glmnet                  2.0_10                 r3.4.1_0    r\n",
      "r-glue                    1.1.1                  r3.4.1_0    r\n",
      "r-gtable                  0.2.0                  r3.4.1_0    r\n",
      "r-haven                   1.0.0                  r3.4.1_0    r\n",
      "r-hexbin                  1.27.1                 r3.4.1_0    r\n",
      "r-highr                   0.6                    r3.4.1_0    r\n",
      "r-hms                     0.3                    r3.4.1_0    r\n",
      "r-htmltools               0.3.6                  r3.4.1_0    r\n",
      "r-htmlwidgets             0.8                    r3.4.1_1    r\n",
      "r-httpuv                  1.3.3                  r3.4.1_0    r\n",
      "r-httr                    1.2.1                  r3.4.1_0    r\n",
      "r-irdisplay               0.4.4                  r3.4.1_0    r\n",
      "r-irkernel                0.7.1                  r3.4.1_0    r\n",
      "r-iterators               1.0.8                  r3.4.1_0    r\n",
      "r-jsonlite                1.5                    r3.4.1_0    r\n",
      "r-kernsmooth              2.23_15                r3.4.1_0    r\n",
      "r-knitr                   1.16                   r3.4.1_0    r\n",
      "r-labeling                0.3                    r3.4.1_2    r\n",
      "r-lattice                 0.20_35                r3.4.1_0    r\n",
      "r-lazyeval                0.2.0                  r3.4.1_0    r\n",
      "r-lme4                    1.1_13                 r3.4.1_0    r\n",
      "r-lubridate               1.6.0                  r3.4.1_0    r\n",
      "r-magrittr                1.5                    r3.4.1_2    r\n",
      "r-maps                    3.2.0                  r3.4.1_0    r\n",
      "r-markdown                0.8                    r3.4.1_0    r\n",
      "r-mass                    7.3_47                 r3.4.1_0    r\n",
      "r-matrix                  1.2_10                 r3.4.1_0    r\n",
      "r-matrixmodels            0.4_1                  r3.4.1_0    r\n",
      "r-mgcv                    1.8_17                 r3.4.1_0    r\n",
      "r-mime                    0.5                    r3.4.1_0    r\n",
      "r-minqa                   1.2.4                  r3.4.1_2    r\n",
      "r-mnormt                  1.5_5                  r3.4.1_0    r\n",
      "r-modelmetrics            1.1.0                  r3.4.1_0    r\n",
      "r-modelr                  0.1.0                  r3.4.1_0    r\n",
      "r-munsell                 0.4.3                  r3.4.1_0    r\n",
      "r-nlme                    3.1_131                r3.4.1_0    r\n",
      "r-nloptr                  1.0.4                  r3.4.1_2    r\n",
      "r-nnet                    7.3_12                 r3.4.1_0    r\n",
      "r-openssl                 0.9.6                  r3.4.1_0    r\n",
      "r-pbdzmq                  0.2_6                  r3.4.1_0    r\n",
      "r-pbkrtest                0.4_7                  r3.4.1_0    r\n",
      "r-pkgconfig               2.0.1                  r3.4.1_0    r\n",
      "r-plogr                   0.1_1                  r3.4.1_0    r\n",
      "r-plyr                    1.8.4                  r3.4.1_0    r\n",
      "r-pryr                    0.1.2                  r3.4.1_0    r\n",
      "r-psych                   1.7.5                  r3.4.1_0    r\n",
      "r-purrr                   0.2.2.2                r3.4.1_0    r\n",
      "r-quantmod                0.4_9                  r3.4.1_0    r\n",
      "r-quantreg                5.33                   r3.4.1_0    r\n",
      "r-r6                      2.2.1                  r3.4.1_0    r\n",
      "r-randomforest            4.6_12                 r3.4.1_0    r\n",
      "r-rbokeh                  0.5.0                  r3.4.1_0    r\n",
      "r-rcolorbrewer            1.1_2                  r3.4.1_3    r\n",
      "r-rcpp                    0.12.11                r3.4.1_0    r\n",
      "r-rcppeigen               0.3.3.3.0              r3.4.1_0    r\n",
      "r-readr                   1.1.1                  r3.4.1_0    r\n",
      "r-readxl                  1.0.0                  r3.4.1_0    r\n",
      "r-recommended             3.4.1                  r3.4.1_0    r\n",
      "r-rematch                 1.0.1                  r3.4.1_0    r\n",
      "r-repr                    0.10                   r3.4.1_0    r\n",
      "r-reshape2                1.4.2                  r3.4.1_0    r\n",
      "r-rlang                   0.1.1                  r3.4.1_0    r\n",
      "r-rmarkdown               1.5                    r3.4.1_0    r\n",
      "r-rpart                   4.1_11                 r3.4.1_0    r\n",
      "r-rprojroot               1.2                    r3.4.1_0    r\n",
      "r-rvest                   0.3.2                  r3.4.1_0    r\n",
      "r-scales                  0.4.1                  r3.4.1_0    r\n",
      "r-selectr                 0.3_1                  r3.4.1_0    r\n",
      "r-shiny                   1.0.3                  r3.4.1_0    r\n",
      "r-sourcetools             0.1.6                  r3.4.1_0    r\n",
      "r-sparsem                 1.77                   r3.4.1_0    r\n",
      "r-spatial                 7.3_11                 r3.4.1_0    r\n",
      "r-stringi                 1.1.5                  r3.4.1_0    r\n",
      "r-stringr                 1.2.0                  r3.4.1_0    r\n",
      "r-survival                2.41_3                 r3.4.1_0    r\n",
      "r-tibble                  1.3.3                  r3.4.1_0    r\n",
      "r-tidyr                   0.6.3                  r3.4.1_0    r\n",
      "r-tidyverse               1.1.1                  r3.4.1_0    r\n",
      "r-ttr                     0.23_1                 r3.4.1_0    r\n",
      "r-uuid                    0.1_2                  r3.4.1_0    r\n",
      "r-xml2                    1.1.1                  r3.4.1_0    r\n",
      "r-xtable                  1.8_2                  r3.4.1_0    r\n",
      "r-xts                     0.9_7                  r3.4.1_2    r\n",
      "r-yaml                    2.1.14                 r3.4.1_0    r\n",
      "r-zoo                     1.8_0                  r3.4.1_0    r\n",
      "readline                  6.2                           2  \n",
      "requests                  2.14.2                   py27_0  \n",
      "rope                      0.9.4                    py27_1  \n",
      "ruamel_yaml               0.11.14                  py27_1  \n",
      "scandir                   1.5                      py27_0  \n",
      "scikit-image              0.13.0              np112py27_0  \n",
      "scikit-learn              0.18.1              np112py27_1  \n",
      "scipy                     0.19.0              np112py27_0  \n",
      "seaborn                   0.7.1                    py27_0  \n",
      "setuptools                27.2.0                   py27_0  \n",
      "simplegeneric             0.8.1                    py27_1  \n",
      "singledispatch            3.4.0.3                  py27_0  \n",
      "sip                       4.18                     py27_0  \n",
      "six                       1.10.0                   py27_0  \n",
      "snowballstemmer           1.2.1                    py27_0  \n",
      "sortedcollections         0.5.3                    py27_0  \n",
      "sortedcontainers          1.5.7                    py27_0  \n",
      "sphinx                    1.5.6                    py27_0  \n",
      "sphinxcontrib             1.0                      py27_0  \n",
      "sphinxcontrib-websupport  1.0.1                    py27_0  \n",
      "spyder                    3.1.4                    py27_0  \n",
      "sqlalchemy                1.1.9                    py27_0  \n",
      "sqlite                    3.13.0                        0  \n",
      "ssl_match_hostname        3.4.0.2                  py27_1  \n",
      "statsmodels               0.8.0               np112py27_0  \n",
      "subprocess32              3.2.7                    py27_0  \n",
      "sympy                     1.0                      py27_0  \n",
      "tblib                     1.3.2                    py27_0  \n",
      "terminado                 0.6                      py27_0  \n",
      "testpath                  0.3                      py27_0  \n",
      "tk                        8.5.18                        0  \n",
      "toolz                     0.8.2                    py27_0  \n",
      "tornado                   4.5.1                    py27_0  \n",
      "traitlets                 4.3.2                    py27_0  \n",
      "typing                    3.6.2                    py27_0  \n",
      "unicodecsv                0.14.1                   py27_0  \n",
      "unixodbc                  2.3.4                         0  \n",
      "wcwidth                   0.1.7                    py27_0  \n",
      "werkzeug                  0.12.2                   py27_0  \n",
      "wheel                     0.29.0                   py27_0  \n",
      "widgetsnbextension        2.0.0                    py27_0  \n",
      "wrapt                     1.10.10                  py27_0  \n",
      "xlrd                      1.0.0                    py27_0  \n",
      "xlsxwriter                0.9.6                    py27_0  \n",
      "xlwings                   0.10.4                   py27_0  \n",
      "xlwt                      1.2.0                    py27_0  \n",
      "xz                        5.2.2                         1  \n",
      "yaml                      0.1.6                         0  \n",
      "zeromq                    4.1.3                         0  \n",
      "zict                      0.1.2                    py27_0  \n",
      "zlib                      1.2.8                         3  \n"
     ]
    }
   ],
   "source": [
    "!conda list\n"
   ]
  },
  {
   "cell_type": "code",
   "execution_count": 4,
   "metadata": {},
   "outputs": [
    {
     "data": {
      "text/plain": [
       "array([2, 3, 4, 5])"
      ]
     },
     "execution_count": 4,
     "metadata": {},
     "output_type": "execute_result"
    }
   ],
   "source": [
    "from numpy import array\n",
    "a = array([1,2,3,4])\n",
    "a+1"
   ]
  },
  {
   "cell_type": "code",
   "execution_count": 5,
   "metadata": {},
   "outputs": [
    {
     "data": {
      "text/plain": [
       "array([2, 4, 6, 8])"
      ]
     },
     "execution_count": 5,
     "metadata": {},
     "output_type": "execute_result"
    }
   ],
   "source": [
    "a+a"
   ]
  },
  {
   "cell_type": "code",
   "execution_count": 8,
   "metadata": {},
   "outputs": [
    {
     "data": {
      "text/plain": [
       "4"
      ]
     },
     "execution_count": 8,
     "metadata": {},
     "output_type": "execute_result"
    }
   ],
   "source": [
    "len(a)"
   ]
  },
  {
   "cell_type": "code",
   "execution_count": 14,
   "metadata": {},
   "outputs": [],
   "source": [
    "a = array([[1,2,3],[3,4,5]])"
   ]
  },
  {
   "cell_type": "code",
   "execution_count": 15,
   "metadata": {},
   "outputs": [
    {
     "data": {
      "text/plain": [
       "2"
      ]
     },
     "execution_count": 15,
     "metadata": {},
     "output_type": "execute_result"
    }
   ],
   "source": [
    "a.ndim\n"
   ]
  },
  {
   "cell_type": "code",
   "execution_count": 16,
   "metadata": {},
   "outputs": [
    {
     "data": {
      "text/plain": [
       "(2, 3)"
      ]
     },
     "execution_count": 16,
     "metadata": {},
     "output_type": "execute_result"
    }
   ],
   "source": [
    "a.shape"
   ]
  },
  {
   "cell_type": "code",
   "execution_count": 17,
   "metadata": {},
   "outputs": [
    {
     "data": {
      "text/plain": [
       "6"
      ]
     },
     "execution_count": 17,
     "metadata": {},
     "output_type": "execute_result"
    }
   ],
   "source": [
    "a.size"
   ]
  },
  {
   "cell_type": "code",
   "execution_count": 23,
   "metadata": {},
   "outputs": [],
   "source": [
    "from numpy import *\n",
    "d = zeros((3,4))"
   ]
  },
  {
   "cell_type": "code",
   "execution_count": 24,
   "metadata": {},
   "outputs": [
    {
     "data": {
      "text/plain": [
       "dtype('float64')"
      ]
     },
     "execution_count": 24,
     "metadata": {},
     "output_type": "execute_result"
    }
   ],
   "source": [
    "d.dtype"
   ]
  },
  {
   "cell_type": "code",
   "execution_count": 25,
   "metadata": {},
   "outputs": [
    {
     "data": {
      "text/plain": [
       "array([[ 0.,  0.,  0.,  0.],\n",
       "       [ 0.,  0.,  0.,  0.],\n",
       "       [ 0.,  0.,  0.,  0.]])"
      ]
     },
     "execution_count": 25,
     "metadata": {},
     "output_type": "execute_result"
    }
   ],
   "source": [
    "d\n"
   ]
  },
  {
   "cell_type": "code",
   "execution_count": 27,
   "metadata": {},
   "outputs": [
    {
     "data": {
      "text/plain": [
       "2"
      ]
     },
     "execution_count": 27,
     "metadata": {},
     "output_type": "execute_result"
    }
   ],
   "source": [
    "d.ndim"
   ]
  },
  {
   "cell_type": "code",
   "execution_count": 28,
   "metadata": {},
   "outputs": [
    {
     "data": {
      "text/plain": [
       "(3, 4)"
      ]
     },
     "execution_count": 28,
     "metadata": {},
     "output_type": "execute_result"
    }
   ],
   "source": [
    "d.shape"
   ]
  },
  {
   "cell_type": "code",
   "execution_count": 29,
   "metadata": {
    "collapsed": true
   },
   "outputs": [],
   "source": [
    "d  = zeros((3,3,4))"
   ]
  },
  {
   "cell_type": "code",
   "execution_count": 30,
   "metadata": {},
   "outputs": [
    {
     "data": {
      "text/plain": [
       "array([[[ 0.,  0.,  0.,  0.],\n",
       "        [ 0.,  0.,  0.,  0.],\n",
       "        [ 0.,  0.,  0.,  0.]],\n",
       "\n",
       "       [[ 0.,  0.,  0.,  0.],\n",
       "        [ 0.,  0.,  0.,  0.],\n",
       "        [ 0.,  0.,  0.,  0.]],\n",
       "\n",
       "       [[ 0.,  0.,  0.,  0.],\n",
       "        [ 0.,  0.,  0.,  0.],\n",
       "        [ 0.,  0.,  0.,  0.]]])"
      ]
     },
     "execution_count": 30,
     "metadata": {},
     "output_type": "execute_result"
    }
   ],
   "source": [
    "d\n"
   ]
  },
  {
   "cell_type": "code",
   "execution_count": 31,
   "metadata": {},
   "outputs": [
    {
     "data": {
      "text/plain": [
       "3"
      ]
     },
     "execution_count": 31,
     "metadata": {},
     "output_type": "execute_result"
    }
   ],
   "source": [
    "d.ndim"
   ]
  },
  {
   "cell_type": "code",
   "execution_count": 34,
   "metadata": {},
   "outputs": [
    {
     "data": {
      "text/plain": [
       "array([10, 14, 18])"
      ]
     },
     "execution_count": 34,
     "metadata": {},
     "output_type": "execute_result"
    }
   ],
   "source": [
    "arange(10,20,4)"
   ]
  },
  {
   "cell_type": "code",
   "execution_count": 37,
   "metadata": {},
   "outputs": [
    {
     "data": {
      "text/plain": [
       "array([ 10.,  12.,  14.,  16.,  18.,  20.])"
      ]
     },
     "execution_count": 37,
     "metadata": {},
     "output_type": "execute_result"
    }
   ],
   "source": [
    "import numpy\n",
    "numpy.linspace(10,20,6)"
   ]
  },
  {
   "cell_type": "code",
   "execution_count": 51,
   "metadata": {
    "collapsed": true
   },
   "outputs": [],
   "source": [
    "a=arange(12).reshape(3,4)"
   ]
  },
  {
   "cell_type": "code",
   "execution_count": 52,
   "metadata": {},
   "outputs": [
    {
     "data": {
      "text/plain": [
       "array([[ 0,  1,  2,  3],\n",
       "       [ 4,  5,  6,  7],\n",
       "       [ 8,  9, 10, 11]])"
      ]
     },
     "execution_count": 52,
     "metadata": {},
     "output_type": "execute_result"
    }
   ],
   "source": [
    "a"
   ]
  },
  {
   "cell_type": "code",
   "execution_count": 53,
   "metadata": {},
   "outputs": [
    {
     "data": {
      "text/plain": [
       "[<matplotlib.lines.Line2D at 0x1196e9210>,\n",
       " <matplotlib.lines.Line2D at 0x1196e9410>,\n",
       " <matplotlib.lines.Line2D at 0x1196e9550>,\n",
       " <matplotlib.lines.Line2D at 0x1196e9690>]"
      ]
     },
     "execution_count": 53,
     "metadata": {},
     "output_type": "execute_result"
    },
    {
     "data": {
      "image/png": "[encoded data removed]",
      "text/plain": [
       "<matplotlib.figure.Figure at 0x11941ed50>"
      ]
     },
     "metadata": {},
     "output_type": "display_data"
    }
   ],
   "source": [
    "%matplotlib inline\n",
    "from matplotlib.pyplot import plot\n",
    "# a = array(1,2,3)\n",
    "plot(a, a**2)"
   ]
  },
  {
   "cell_type": "code",
   "execution_count": 56,
   "metadata": {},
   "outputs": [
    {
     "name": "stdout",
     "output_type": "stream",
     "text": [
      "['1', '2', '3', '4', '5']\n"
     ]
    }
   ],
   "source": [
    "\n",
    "lines = '1 2 3 4 5'\n",
    "line = lines.split()\n",
    "print line"
   ]
  },
  {
   "cell_type": "code",
   "execution_count": 57,
   "metadata": {},
   "outputs": [
    {
     "name": "stdout",
     "output_type": "stream",
     "text": [
      "15\n"
     ]
    }
   ],
   "source": [
    "total = 0\n",
    "for i in line:\n",
    "    total+=int(i)\n",
    "print total"
   ]
  },
  {
   "cell_type": "code",
   "execution_count": 62,
   "metadata": {},
   "outputs": [
    {
     "data": {
      "text/plain": [
       "15"
      ]
     },
     "execution_count": 62,
     "metadata": {},
     "output_type": "execute_result"
    }
   ],
   "source": [
    "sum([int(i) for i in lines.split()])"
   ]
  },
  {
   "cell_type": "code",
   "execution_count": 80,
   "metadata": {},
   "outputs": [
    {
     "name": "stdout",
     "output_type": "stream",
     "text": [
      "[[1, 2, 3], [1, 2, 4]]\n"
     ]
    }
   ],
   "source": [
    "f = open('new.txt','w+r')\n",
    "f.write('1,2,3\\n')\n",
    "f.write('1,2,4\\n')\n",
    "f.close\n",
    "f = open('new.txt')\n",
    "d = []\n",
    "# ptint f\n",
    "for line in f:\n",
    "    d.append([int(item) for item in line.split(',')])\n",
    "f.close\n",
    "print d\n",
    "\n"
   ]
  },
  {
   "cell_type": "code",
   "execution_count": 75,
   "metadata": {},
   "outputs": [
    {
     "name": "stdout",
     "output_type": "stream",
     "text": [
      "first.ipynb                     test\r\n",
      "new.txt                         third_numpy(array)_file.ipynb\r\n",
      "second_os_magic_markdown.ipynb\r\n"
     ]
    }
   ],
   "source": [
    "%ls\n"
   ]
  },
  {
   "cell_type": "code",
   "execution_count": 69,
   "metadata": {},
   "outputs": [],
   "source": [
    "import os\n",
    "os.remove('new.txt')"
   ]
  },
  {
   "cell_type": "code",
   "execution_count": 70,
   "metadata": {},
   "outputs": [
    {
     "name": "stdout",
     "output_type": "stream",
     "text": [
      "first.ipynb                     test\r\n",
      "second_os_magic_markdown.ipynb  third_numpy(array)_file.ipynb\r\n"
     ]
    }
   ],
   "source": [
    "\n"
   ]
  },
  {
   "cell_type": "code",
   "execution_count": null,
   "metadata": {
    "collapsed": true
   },
   "outputs": [],
   "source": []
  }
 ],
 "metadata": {
  "kernelspec": {
   "display_name": "Python 2",
   "language": "python",
   "name": "python2"
  },
  "language_info": {
   "codemirror_mode": {
    "name": "ipython",
    "version": 2
   },
   "file_extension": ".py",
   "mimetype": "text/x-python",
   "name": "python",
   "nbconvert_exporter": "python",
   "pygments_lexer": "ipython2",
   "version": "2.7.13"
  }
 },
 "nbformat": 4,
 "nbformat_minor": 2
}
